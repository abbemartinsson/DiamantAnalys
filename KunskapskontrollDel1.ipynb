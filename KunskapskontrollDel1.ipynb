{
 "cells": [
  {
   "cell_type": "markdown",
   "id": "2c97c932-df81-4cee-81e8-65bc52c516a9",
   "metadata": {},
   "source": [
    "# Kunskapskontrollen Del 1"
   ]
  },
  {
   "cell_type": "markdown",
   "id": "416ae089-9a12-4951-9792-18a5e5e8759a",
   "metadata": {},
   "source": [
    "### 1. \n",
    "En list i python går att ändra medan en tuple inte gå att ändra. Jag tycker inte den ena är bättre än den andra då det handlar om vad du vill göra i din kod."
   ]
  },
  {
   "cell_type": "markdown",
   "id": "a39b0e5d-7322-4383-b1af-e1a784b5b161",
   "metadata": {},
   "source": [
    "### 2. \n",
    "En funktion är en del kod som du kan kalla på när du vill. Det är användbart då du inte behöver upprepa samma kod flera gånger, istället så kallar du bara på funktionen."
   ]
  },
  {
   "cell_type": "markdown",
   "id": "f2aea18e-9406-4dbc-8d79-4249e7a4f870",
   "metadata": {},
   "source": [
    "### 3. \n",
    "a) En instans är ett objekt från en klass <br>\n",
    "b) Ett attribut är en egenskap i en instans <br>\n",
    "c) En metod är en funktion inuti en klass <br>"
   ]
  },
  {
   "cell_type": "markdown",
   "id": "6dc477c1-1fc8-455c-8d3f-ad76ceb2d5ba",
   "metadata": {},
   "source": [
    "### 4.\n",
    "Streamlit är ett verktyg i python som gör det lätt att skapa webbappar utan att använda HTML och CSS."
   ]
  },
  {
   "cell_type": "markdown",
   "id": "9a9d594e-9d8c-4ee1-88fc-413e7f01fad9",
   "metadata": {},
   "source": [
    "## 5.\n",
    "### a)"
   ]
  },
  {
   "cell_type": "code",
   "execution_count": 43,
   "id": "cafe1d54-3d10-4a22-8c39-9b132aa2b5d1",
   "metadata": {},
   "outputs": [],
   "source": [
    "class BankAccount:\n",
    "    def __init__(self, account_holder, balance):\n",
    "        self.account_holder = account_holder\n",
    "        self.balance = balance\n",
    "\n",
    "    def deposit(self, amount):\n",
    "        if amount > 0:\n",
    "            self.balance += amount\n",
    "            print(f\"Deposited: {amount} kr, New balance: {self.balance} kr\")\n",
    "        else:\n",
    "            print(\"You can only deposit a positive amount\")\n",
    "\n",
    "    def withdraw(self, amount):\n",
    "        if amount > self.balance:\n",
    "            print(\"Too low balance\")\n",
    "        elif amount > 0:\n",
    "            self.balance -= amount\n",
    "            print(f\"Withdrawing: {amount} kr, New balance: {self.balance} kr\")\n",
    "        else:\n",
    "            print(\"Amount must be positive\")"
   ]
  },
  {
   "cell_type": "markdown",
   "id": "fe7c8ba7-8ee9-4b21-87ae-30bacc65f1ea",
   "metadata": {},
   "source": [
    "### b)"
   ]
  },
  {
   "cell_type": "code",
   "execution_count": 46,
   "id": "829bc224-b043-4d9d-9b83-c4f4433f3660",
   "metadata": {},
   "outputs": [
    {
     "name": "stdout",
     "output_type": "stream",
     "text": [
      "Account holder: Alice\n",
      "Current balance: 1000 kr\n",
      "Deposited: 500 kr, New balance: 1500 kr\n",
      "Too low balance\n",
      "Withdrawing: 300 kr, New balance: 1200 kr\n",
      "You can only deposit a positive amount\n",
      "Amount must be positive\n"
     ]
    }
   ],
   "source": [
    "# Skapa ett konto\n",
    "konto1 = BankAccount(\"Alice\", 1000)\n",
    "\n",
    "# Visa Account holder och balance\n",
    "print(f\"Account holder: {konto1.account_holder}\")\n",
    "print(f\"Current balance: {konto1.balance} kr\")\n",
    "\n",
    "# Sätt in pengar\n",
    "konto1.deposit(500)     # Förväntat: New balance 1500 kr\n",
    "\n",
    "# Försök ta ut för mycket pengar\n",
    "konto1.withdraw(2000)   # Förväntat: \"Too low balance\"\n",
    "\n",
    "# Ta ut en giltig summa\n",
    "konto1.withdraw(300)    # Förväntat: New balance 1200 kr\n",
    "\n",
    "# Försök sätta in negativt belopp\n",
    "konto1.deposit(-100)    # Förväntat: You can only deposit a positive amount\n",
    "\n",
    "# Försök ta ut negativt belopp\n",
    "konto1.withdraw(-50)    # Förväntat: Amount must be positive"
   ]
  },
  {
   "cell_type": "markdown",
   "id": "49455706-7546-424e-8651-15721f7162ed",
   "metadata": {},
   "source": [
    "## 6."
   ]
  },
  {
   "cell_type": "code",
   "execution_count": 49,
   "id": "ce123268-96d5-4b01-85b2-86842ee971e1",
   "metadata": {},
   "outputs": [],
   "source": [
    "def vowel_checker(text):\n",
    "    vokaler = \"aeiouyåäöAEIOUYÅÄÖ\"\n",
    "    count = 0\n",
    "    for bokstav in text:\n",
    "        if bokstav in vokaler:\n",
    "            count += 1\n",
    "    return count"
   ]
  },
  {
   "cell_type": "code",
   "execution_count": 51,
   "id": "8f85b13a-ccfc-4994-9fc5-1e648605e597",
   "metadata": {},
   "outputs": [
    {
     "name": "stdout",
     "output_type": "stream",
     "text": [
      "2\n",
      "1\n",
      "0\n"
     ]
    }
   ],
   "source": [
    "print(vowel_checker(\"hjärna\"))      # Output: 2\n",
    "print(vowel_checker(\"Hej\"))         # Output: 1\n",
    "print(vowel_checker(\"Dvd\"))         # Output: 0"
   ]
  },
  {
   "cell_type": "markdown",
   "id": "15092b3b-fe45-4792-88ac-82d0653cfcea",
   "metadata": {},
   "source": [
    "## 7."
   ]
  },
  {
   "cell_type": "code",
   "execution_count": 54,
   "id": "5650fe9a-b209-4069-a1d6-3a90398c1ad2",
   "metadata": {},
   "outputs": [],
   "source": [
    "def common_elements(list1, list2):\n",
    "    return [item for item in list1 if item in list2]"
   ]
  },
  {
   "cell_type": "code",
   "execution_count": 56,
   "id": "591c298b-4b19-400c-9807-7af8265b9df6",
   "metadata": {},
   "outputs": [
    {
     "name": "stdout",
     "output_type": "stream",
     "text": [
      "[4, 'apple', 3]\n"
     ]
    }
   ],
   "source": [
    "resultat = common_elements([4, 'apple', 10, 'hi', 3], [4, 'apple', 5, 9, 3])\n",
    "print(resultat)  # Output: [4, 'apple', 3]"
   ]
  },
  {
   "cell_type": "markdown",
   "id": "12b231a6-bf6f-4484-97ed-a2cd271b29b0",
   "metadata": {},
   "source": [
    "## 8.\n",
    "Grafen visar att det finns ett samband mellan antalet storkar och antalet födslar, men det betyder inte att storkar orsakar att barn föds. Det finns ingen kausalitet då storkarna inte är orsaken till att barn föds."
   ]
  },
  {
   "cell_type": "markdown",
   "id": "22753001-9121-40b5-b52a-2137c9b2be9e",
   "metadata": {},
   "source": [
    "## 9.\n",
    "Vem är kalle???\n",
    "\n",
    "Men jag håller inte med Kim då det finns många fördelar och nackdelar med båda sätten. När det finns extremvärdet är det bättre att använda\n",
    "medianen för medelvärdet blir för högt. Exempel: [25, 30, 28, 27, 1000] medevärdet blir 222 medans medianen blir 28.\n",
    "\n",
    "Men om det inte finns extremvärden så är det oftast bättre att använda medelvärdet. Exempel:\n",
    "[70, 72, 75, 78, 79] medelvärdet blir 74,8 medans medianen blir 75."
   ]
  },
  {
   "cell_type": "markdown",
   "id": "14278f6f-b93f-42b0-be99-6c14aab61ef3",
   "metadata": {},
   "source": [
    "## 10.\n",
    "Cirkeldiagram visar hur en helhet delas upp i delar, ofta i procent. Till exempel kan Spotify använda ett cirkeldiagram för att visa hur mycket deras användare lyssnar på olika musikgenrer som pop(40%), rock(25%), hip-hop(15%), klassiskt(10%), jazz(10%), för att förstå vad som är mest populärt."
   ]
  },
  {
   "cell_type": "markdown",
   "id": "1e098873-3d88-43c9-b695-b7fde7b25a5e",
   "metadata": {},
   "source": [
    "## 11.\n",
    "Linjediagram visar hur en eller flera saker förändras över tid eller i en följd. Det gör det enkelt att se trender, mönster eller utvecklingar, till exempel om något ökar, minskar eller är stabilt.\n",
    "\n",
    "Spotify kan använda ett linjediagram för att till exempel visa antalet nya användare varje månad under ett år. Då kan de enkelt se om användartillväxten ökar eller minskar över tid."
   ]
  },
  {
   "cell_type": "markdown",
   "id": "1ac167ee-05d1-4165-b400-17c4fa4d9bde",
   "metadata": {},
   "source": [
    "## 12.\n",
    "Lådagram används för att visa hur data är fördelad. Det visar bland annat medianen, hur spridd datan är och om det finns ovanliga värden. \n",
    "På så sätt kan man snabbt se variation och jämföra olika grupper."
   ]
  }
 ],
 "metadata": {
  "kernelspec": {
   "display_name": "Python [conda env:base] *",
   "language": "python",
   "name": "conda-base-py"
  },
  "language_info": {
   "codemirror_mode": {
    "name": "ipython",
    "version": 3
   },
   "file_extension": ".py",
   "mimetype": "text/x-python",
   "name": "python",
   "nbconvert_exporter": "python",
   "pygments_lexer": "ipython3",
   "version": "3.12.7"
  }
 },
 "nbformat": 4,
 "nbformat_minor": 5
}
